{
 "cells": [
  {
   "cell_type": "code",
   "execution_count": 1,
   "metadata": {},
   "outputs": [
    {
     "name": "stdout",
     "output_type": "stream",
     "text": [
      "Enter real number: 3\n",
      "Enter imaginary number: 2\n",
      "Enter real number: 1\n",
      "Enter imaginary number: 2\n",
      "Complex number 1 = (3+2j)\n",
      "Complex number 2 = (1+2j)\n",
      "Subtract Result = (2+0j)\n"
     ]
    }
   ],
   "source": [
    "a1 = int(input(\"Enter real number: \"))\n",
    "b1 = int(input(\"Enter imaginary number: \"))\n",
    "\n",
    "a2 = int(input(\"Enter real number: \"))\n",
    "b2 = int(input(\"Enter imaginary number: \"))\n",
    "\n",
    "res1 = complex(a1, b1)\n",
    "res2= complex(a2, b2)\n",
    "\n",
    "sub1 = res1-res2\n",
    "\n",
    "print(\"Complex number 1 = {}\".format(res1))\n",
    "print(\"Complex number 2 = {}\".format(res2))\n",
    "print(\"Subtract Result = {}\".format(sub1))"
   ]
  },
  {
   "cell_type": "code",
   "execution_count": 2,
   "metadata": {},
   "outputs": [
    {
     "name": "stdout",
     "output_type": "stream",
     "text": [
      "Enter a number= 8\n",
      "Fourth Root of 8 is 1.681792830507429\n"
     ]
    }
   ],
   "source": [
    "a = int(input(\"Enter a number= \"))\n",
    "fourthRoot = a ** (1/4)\n",
    "print(\"Fourth Root of {} is {}\".format(a, fourthRoot))"
   ]
  },
  {
   "cell_type": "code",
   "execution_count": 3,
   "metadata": {},
   "outputs": [
    {
     "name": "stdout",
     "output_type": "stream",
     "text": [
      "Enter a number= 29\n",
      "Enter a number= 99\n",
      "Numbers before swap A=29 and B=99\n",
      "Numbers after swap A=99 and B=29\n"
     ]
    }
   ],
   "source": [
    "\n",
    "a = int(input(\"Enter a number= \"))\n",
    "b = int(input(\"Enter a number= \"))\n",
    "\n",
    "print(\"Numbers before swap A={} and B={}\".format(a,b))\n",
    "\n",
    "temp = a\n",
    "a = b\n",
    "b = temp\n",
    "\n",
    "print(\"Numbers after swap A={} and B={}\".format(a,b))"
   ]
  },
  {
   "cell_type": "code",
   "execution_count": 4,
   "metadata": {},
   "outputs": [
    {
     "name": "stdout",
     "output_type": "stream",
     "text": [
      "Enter a number= 20\n",
      "Enter a number= 40\n",
      "Numbers before swap A=20 and B=40\n",
      "Numbers after swap A=40 and B=20\n"
     ]
    }
   ],
   "source": [
    "a = int(input(\"Enter a number= \"))\n",
    "b = int(input(\"Enter a number= \"))\n",
    "\n",
    "print(\"Numbers before swap A={} and B={}\".format(a,b))\n",
    "\n",
    "a = a+b\n",
    "b = a-b\n",
    "a = a-b\n",
    "\n",
    "print(\"Numbers after swap A={} and B={}\".format(a,b))"
   ]
  },
  {
   "cell_type": "code",
   "execution_count": 5,
   "metadata": {},
   "outputs": [
    {
     "name": "stdout",
     "output_type": "stream",
     "text": [
      "Conversion of fahrenheit to Kelvin\n",
      "Enter Fahrenheit : 20\n",
      "fahrenheit 20 = Kelvin 266.333 K\n",
      "Conversion of fahrenheit to Celcius\n",
      "fahrenheit 20 = Celcius -6.667 C\n"
     ]
    }
   ],
   "source": [
    "print(\"Conversion of fahrenheit to Kelvin\")\n",
    "f = int(input(\"Enter Fahrenheit : \"))\n",
    "k = 273 + ((f - 32.0) * (5/9))\n",
    "print(f\"fahrenheit {f} = Kelvin {k:.3f} K\")\n",
    "\n",
    "print(\"Conversion of fahrenheit to Celcius\")\n",
    "c = ((f - 32.0) * 5) / 9\n",
    "print(f\"fahrenheit {f} = Celcius {c:.3f} C\")"
   ]
  },
  {
   "cell_type": "code",
   "execution_count": 6,
   "metadata": {},
   "outputs": [
    {
     "name": "stdout",
     "output_type": "stream",
     "text": [
      "<class 'int'>\n",
      "<class 'float'>\n",
      "<class 'complex'>\n",
      "<class 'str'>\n",
      "<class 'tuple'>\n",
      "<class 'dict'>\n",
      "<class 'set'>\n",
      "<class 'list'>\n",
      "<class 'bool'>\n",
      "<class 'NoneType'>\n"
     ]
    }
   ],
   "source": [
    "print(type(100))\n",
    "\n",
    "#float\n",
    "print(type(100.2))\n",
    "\n",
    "#complex\n",
    "z = complex(11,3)\n",
    "print(type(z))\n",
    "\n",
    "#str\n",
    "print(type('str'))\n",
    "\n",
    "#tuple\n",
    "print(type((1, 3, 5)))\n",
    "\n",
    "#dict\n",
    "print(type({1: 'hello', 2: \"world\"}))\n",
    "\n",
    "#set\n",
    "print(type({'foo', 'bar'}))\n",
    "#list\n",
    "print(type([1, 2, 'text']))\n",
    "\n",
    "#bool\n",
    "print(type(True))\n",
    "\n",
    "#NoneType\n",
    "print(type(None))"
   ]
  },
  {
   "cell_type": "markdown",
   "metadata": {},
   "source": [
    "Signup an account in GitHub\n",
    "Make public repository with name LetsUpgrade AI-ML\n",
    "Commit assignment to the repository in Day wise folder\n",
    "Check repository lin in private browser window\n",
    "Submit assignment using Google forms"
   ]
  }
 ],
 "metadata": {
  "kernelspec": {
   "display_name": "Python 3",
   "language": "python",
   "name": "python3"
  },
  "language_info": {
   "codemirror_mode": {
    "name": "ipython",
    "version": 3
   },
   "file_extension": ".py",
   "mimetype": "text/x-python",
   "name": "python",
   "nbconvert_exporter": "python",
   "pygments_lexer": "ipython3",
   "version": "3.7.4"
  }
 },
 "nbformat": 4,
 "nbformat_minor": 2
}
