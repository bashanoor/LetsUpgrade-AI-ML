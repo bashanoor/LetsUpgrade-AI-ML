{
 "cells": [
  {
   "cell_type": "markdown",
   "metadata": {},
   "source": [
    "# Create 10 hypothesis statement using Day 7 dataset\n",
    "**STATEMENT 1** = For age 35 years and above the attrition rate is more. <br/>\n",
    "**STATEMENT 2** = For a monthly income of less than 65000 the attrition rate is more. <br/>\n",
    "**STATEMENT 3** = For Job Level 2 the attrition rate is more. <br/>\n",
    "**STATEMENT 4** = For number of companies worked more than 2 the attrition rate is more.<br/>\n",
    "**STATEMENT 5** = For percentage of salary hike more than 2 the attrition rate is less.<br/>\n",
    "**STATEMENT 6** = For total working years more than 11 the attrition rate is more.<br/>\n",
    "**STATEMENT 7** = For years at company more than 7 the attrition rate is less. <br/>\n",
    "**STATEMENT 8** = For year since last promotion less than 2 the attrition rate is less.<br/>\n",
    "**STATEMENT 9** = For years with current manager less than 4 the attrition rate is more. <br/>\n",
    "**STATEMENT 10** = For year age less than 35 years the attrition rate is less.<br/>"
   ]
  },
  {
   "cell_type": "code",
   "execution_count": null,
   "metadata": {},
   "outputs": [],
   "source": []
  }
 ],
 "metadata": {
  "kernelspec": {
   "display_name": "Python 3",
   "language": "python",
   "name": "python3"
  },
  "language_info": {
   "codemirror_mode": {
    "name": "ipython",
    "version": 3
   },
   "file_extension": ".py",
   "mimetype": "text/x-python",
   "name": "python",
   "nbconvert_exporter": "python",
   "pygments_lexer": "ipython3",
   "version": "3.7.6"
  }
 },
 "nbformat": 4,
 "nbformat_minor": 4
}
