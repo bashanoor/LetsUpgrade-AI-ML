{
 "cells": [
  {
   "cell_type": "code",
   "execution_count": 1,
   "metadata": {},
   "outputs": [
    {
     "name": "stdout",
     "output_type": "stream",
     "text": [
      "3\n",
      "5\n",
      "7\n",
      "11\n",
      "13\n",
      "17\n",
      "19\n"
     ]
    }
   ],
   "source": [
    "for a in range(2,21):  \n",
    "    k=0\n",
    "    if not a%2==0:\n",
    "        for i in range(2,a//2+1):  \n",
    "                if(a%i==0):  \n",
    "                    k=k+1  \n",
    "        if(k<=0):  \n",
    "            print(a)"
   ]
  },
  {
   "cell_type": "code",
   "execution_count": 2,
   "metadata": {},
   "outputs": [
    {
     "name": "stdout",
     "output_type": "stream",
     "text": [
      "20\n",
      "lets upgrade ai-mldp\n",
      "LETS UPGRADE AI-MLDP\n",
      "lETS uPGRADE ai-mldp\n",
      "                                        Lets Upgrade AI-MLDP                                        \n",
      "2\n",
      "False\n",
      "True\n",
      "6\n",
      "False\n",
      "False\n",
      "False\n",
      "Lets Upgrade AI-MLDP                                                                                \n",
      "                              Lets Upgrade AI-MLDP\n",
      "False\n"
     ]
    }
   ],
   "source": [
    "s=\"Lets Upgrade AI-MLDP\"\n",
    "print(len(s))\n",
    "print(s.lower())\n",
    "print(s.upper())\n",
    "print(s.swapcase())\n",
    "print(s.center(100))\n",
    "print(s.count('e'))\n",
    "print(s.endswith('ML'))\n",
    "print(s.startswith('Lets'))\n",
    "print(s.find('p'))\n",
    "print(s.isalnum())\n",
    "print(s.isalpha())\n",
    "print(s.isdigit())\n",
    "print(s.ljust(100))\n",
    "print(s.rjust(50))\n",
    "print(s.islower())"
   ]
  },
  {
   "cell_type": "code",
   "execution_count": 3,
   "metadata": {},
   "outputs": [
    {
     "name": "stdout",
     "output_type": "stream",
     "text": [
      "enter a string 1: madam\n",
      "enter string 2: listen\n",
      "string 1 is palindrome\n",
      "strings 1&2 are not anagram\n"
     ]
    }
   ],
   "source": [
    "s1=input('enter a string 1: ')\n",
    "s2= input('enter string 2: ')\n",
    "rev_s= s1[::-1]\n",
    "\n",
    "if s1==rev_s:\n",
    "    print('string 1 is palindrome')\n",
    "else:\n",
    "    print('string 1 is not palindrome')\n",
    "l1=list(s1)\n",
    "l2=list(s2)\n",
    "l1.sort()\n",
    "l2.sort()\n",
    "if l1==l2:\n",
    "    print('strings 1&2 are anagram')\n",
    "else:\n",
    "    print('strings 1&2 are not anagram')\n",
    "\n",
    "if not s1==rev_s:\n",
    "     if not l1==l2:\n",
    "         print('Strings are NONE')"
   ]
  },
  {
   "cell_type": "code",
   "execution_count": 4,
   "metadata": {},
   "outputs": [
    {
     "name": "stdout",
     "output_type": "stream",
     "text": [
      "drdarshaningleaimltrainer\n"
     ]
    }
   ],
   "source": [
    "def remove_charac():\n",
    "    s= \"Dr. Darshan Ingle @AI-ML Trainer\"\n",
    "    print(s.replace(' ','').replace('.','').replace('@','').replace('-','').lower())\n",
    "\n",
    "remove_charac()"
   ]
  }
 ],
 "metadata": {
  "kernelspec": {
   "display_name": "Python 3",
   "language": "python",
   "name": "python3"
  },
  "language_info": {
   "codemirror_mode": {
    "name": "ipython",
    "version": 3
   },
   "file_extension": ".py",
   "mimetype": "text/x-python",
   "name": "python",
   "nbconvert_exporter": "python",
   "pygments_lexer": "ipython3",
   "version": "3.7.4"
  }
 },
 "nbformat": 4,
 "nbformat_minor": 2
}
