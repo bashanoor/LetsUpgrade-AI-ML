{
 "cells": [
  {
   "cell_type": "code",
   "execution_count": 1,
   "metadata": {},
   "outputs": [
    {
     "name": "stdout",
     "output_type": "stream",
     "text": [
      "Enter the first complex number: 2+6j\n",
      "Enter the second complex number: 9+3j\n",
      "Sum=(11+9j), Difference=(-7+3j), Product=60j, Quotient=(0.4+0.5333333333333333j)\n"
     ]
    }
   ],
   "source": [
    "a=input(\"Enter the first complex number: \")\n",
    "b=input(\"Enter the second complex number: \")\n",
    "a=complex(a)\n",
    "b=complex(b)\n",
    "\n",
    "add=a+b\n",
    "dif=a-b\n",
    "pro=a*b\n",
    "quo=a/b\n",
    "\n",
    "print(\"Sum={}, Difference={}, Product={}, Quotient={}\".format(add,dif,pro,quo))"
   ]
  },
  {
   "cell_type": "code",
   "execution_count": 2,
   "metadata": {},
   "outputs": [
    {
     "name": "stdout",
     "output_type": "stream",
     "text": [
      "Enter a number: 5\n",
      "Factorial of 5 is 120\n"
     ]
    }
   ],
   "source": [
    "n=int(input(\"Enter a number: \"))\n",
    "\n",
    "fact=1\n",
    "\n",
    "for x in range(2,n+1):   #Here the value of x ranges from 2 to n+1 excluding n+1\n",
    "    fact=fact*x\n",
    "    \n",
    "print(\"Factorial of {} is {}\".format(n,fact))"
   ]
  },
  {
   "cell_type": "code",
   "execution_count": 3,
   "metadata": {},
   "outputs": [
    {
     "name": "stdout",
     "output_type": "stream",
     "text": [
      "Enter the first number: 45\n",
      "Enter the second number: 23\n",
      "Difference=  22\n",
      "Division result=  1.9565217391304348\n"
     ]
    }
   ],
   "source": [
    "m=int(input(\"Enter the first number: \"))\n",
    "n=int(input(\"Enter the second number: \"))\n",
    "\n",
    "dif=m-n\n",
    "print(\"Difference= \",dif)\n",
    "if dif>25:\n",
    "    print(\"Multiplication result= \",m*n)\n",
    "\n",
    "else:\n",
    "    print(\"Division result= \",m/n)"
   ]
  },
  {
   "cell_type": "code",
   "execution_count": 4,
   "metadata": {},
   "outputs": [
    {
     "name": "stdout",
     "output_type": "stream",
     "text": [
      "98\n",
      "398\n",
      "898\n",
      "1598\n",
      "2498\n"
     ]
    }
   ],
   "source": [
    "l=[5,10,15,20,25,30,35,40,45,50]\n",
    "for i in l:\n",
    "    if i%2==0:\n",
    "        print((i**2)-2)"
   ]
  },
  {
   "cell_type": "code",
   "execution_count": 5,
   "metadata": {},
   "outputs": [
    {
     "name": "stdout",
     "output_type": "stream",
     "text": [
      "16\n",
      "18\n",
      "20\n"
     ]
    }
   ],
   "source": [
    "\n",
    "l=[2,4,6,8,10,12,14,16,18,20]\n",
    "for i in l:\n",
    "    x=i/2\n",
    "    if x>7:\n",
    "        print(i)"
   ]
  },
  {
   "cell_type": "code",
   "execution_count": null,
   "metadata": {},
   "outputs": [],
   "source": []
  }
 ],
 "metadata": {
  "kernelspec": {
   "display_name": "Python 3",
   "language": "python",
   "name": "python3"
  },
  "language_info": {
   "codemirror_mode": {
    "name": "ipython",
    "version": 3
   },
   "file_extension": ".py",
   "mimetype": "text/x-python",
   "name": "python",
   "nbconvert_exporter": "python",
   "pygments_lexer": "ipython3",
   "version": "3.7.4"
  }
 },
 "nbformat": 4,
 "nbformat_minor": 2
}
